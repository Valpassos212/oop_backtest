{
 "cells": [
  {
   "cell_type": "code",
   "execution_count": 1,
   "metadata": {},
   "outputs": [
    {
     "data": {
      "text/html": [
       "        <script type=\"text/javascript\">\n",
       "        window.PlotlyConfig = {MathJaxConfig: 'local'};\n",
       "        if (window.MathJax) {MathJax.Hub.Config({SVG: {font: \"STIX-Web\"}});}\n",
       "        if (typeof require !== 'undefined') {\n",
       "        require.undef(\"plotly\");\n",
       "        requirejs.config({\n",
       "            paths: {\n",
       "                'plotly': ['https://cdn.plot.ly/plotly-latest.min']\n",
       "            }\n",
       "        });\n",
       "        require(['plotly'], function(Plotly) {\n",
       "            window._Plotly = Plotly;\n",
       "        });\n",
       "        }\n",
       "        </script>\n",
       "        "
      ]
     },
     "metadata": {},
     "output_type": "display_data"
    },
    {
     "data": {
      "text/html": [
       "        <script type=\"text/javascript\">\n",
       "        window.PlotlyConfig = {MathJaxConfig: 'local'};\n",
       "        if (window.MathJax) {MathJax.Hub.Config({SVG: {font: \"STIX-Web\"}});}\n",
       "        if (typeof require !== 'undefined') {\n",
       "        require.undef(\"plotly\");\n",
       "        requirejs.config({\n",
       "            paths: {\n",
       "                'plotly': ['https://cdn.plot.ly/plotly-latest.min']\n",
       "            }\n",
       "        });\n",
       "        require(['plotly'], function(Plotly) {\n",
       "            window._Plotly = Plotly;\n",
       "        });\n",
       "        }\n",
       "        </script>\n",
       "        "
      ]
     },
     "metadata": {},
     "output_type": "display_data"
    }
   ],
   "source": [
    "import cufflinks\n",
    "import numpy as np\n",
    "import pandas as pd\n",
    "from pylab import plt\n",
    "plt.style.use('seaborn')\n",
    "pd.set_option('mode.chained_assignment',None)\n",
    "cufflinks.set_config_file(offline = True)"
   ]
  },
  {
   "cell_type": "code",
   "execution_count": 2,
   "metadata": {},
   "outputs": [],
   "source": [
    "class FinancialData:\n",
    "    url = 'http://hilpisch.com/pyalgo_eikon_eod_data.csv'\n",
    "    def __init__(self, symbol):\n",
    "        self.symbol = symbol\n",
    "        self.retrieve_data()\n",
    "        self.prepare_data()\n",
    "    def retrieve_data(self):\n",
    "        self.raw = pd.read_csv(self.url, index_col = 0, parse_dates =True).dropna()\n",
    "    def prepare_data(self):\n",
    "        self.data = pd.DataFrame(self.raw[self.symbol])\n",
    "        self.data['returns'] = np.log(self.data/self.data.shift(1))\n",
    "    def plot_data(self, cols = None):\n",
    "        if cols is None:\n",
    "            cols = [self.symbol]\n",
    "        self.data[cols].plot(figsize = (15,6), title = self.symbol)\n",
    "        \n",
    "    "
   ]
  },
  {
   "cell_type": "code",
   "execution_count": 3,
   "metadata": {},
   "outputs": [],
   "source": [
    "fd = FinancialData('EUR=')"
   ]
  },
  {
   "cell_type": "code",
   "execution_count": 5,
   "metadata": {},
   "outputs": [],
   "source": [
    "import time"
   ]
  },
  {
   "cell_type": "code",
   "execution_count": 8,
   "metadata": {},
   "outputs": [],
   "source": []
  },
  {
   "cell_type": "code",
   "execution_count": 8,
   "metadata": {},
   "outputs": [
    {
     "name": "stdout",
     "output_type": "stream",
     "text": [
      "0 2010-01-04 00:00:00 1.4411\n",
      "1 2010-01-05 00:00:00 1.4368\n",
      "2 2010-01-06 00:00:00 1.4412\n",
      "3 2010-01-07 00:00:00 1.4318\n",
      "4 2010-01-08 00:00:00 1.4412\n",
      "5 2010-01-11 00:00:00 1.4513\n",
      "6 2010-01-12 00:00:00 1.4494\n",
      "7 2010-01-13 00:00:00 1.4509999999999998\n",
      "8 2010-01-14 00:00:00 1.4502\n",
      "9 2010-01-15 00:00:00 1.4382\n"
     ]
    }
   ],
   "source": [
    "for bar in range(10):\n",
    "    print(bar,fd.data.index[bar],fd.data[fd.symbol].iloc[bar])\n",
    "    time.sleep(1)"
   ]
  },
  {
   "cell_type": "code",
   "execution_count": 178,
   "metadata": {},
   "outputs": [],
   "source": [
    "class BacktestBase(FinancialData):\n",
    "    def __init__(self,symbol,amount):\n",
    "        super().__init__(symbol)\n",
    "        self.initial_amount = amount\n",
    "        self.current_balance = amount\n",
    "        self.units = 0\n",
    "        self.trades = 0\n",
    "    def get_date_price(self,bar):\n",
    "        date = str(self.data.index[bar])[:10]\n",
    "        price = self.data[self.symbol].iloc[bar]\n",
    "        return date,price\n",
    "    def print_current_balance(self,bar):\n",
    "        date,price = self.get_date_price(bar)\n",
    "        print(f'{date} | current balance = {self.current_balance:.2f}')\n",
    "    def print_net_wealth(self,bar):\n",
    "        date,price = self.get_date_price(bar)\n",
    "        net_wealth = self.current_balance + self.units*price\n",
    "        print(f'{date} | net wealth = {net_wealth:.2f}')\n",
    "    def place_buy_order(self,bar,units = None,amount = None):\n",
    "        date,price = self.get_date_price(bar)\n",
    "        if units is None:\n",
    "            units = int(amount/price)\n",
    "        self.current_balance -= units*price\n",
    "        self.units += units\n",
    "        self.trades += 1\n",
    "        print(f'{date} | bought {units} at price {price}')\n",
    "    def place_sell_order(self,bar,units = None,amount = None):\n",
    "        date,price = self.get_date_price(bar)\n",
    "        if units is None:\n",
    "            units = int(amount/price)\n",
    "        self.current_balance += units*price\n",
    "        self.units -= units\n",
    "        self.trades += 1\n",
    "        print(f'{date} | sold {units} at price {price}')\n",
    "    def close_out(self,bar):\n",
    "        date,price = self.get_date_price(bar)\n",
    "        print(55* '=')\n",
    "        print(f'{date} | CLOSING OUT POSITION')\n",
    "        print(55* '=')\n",
    "        self.current_balance += self.units*price \n",
    "        perf = (self.current_balance-self.initial_amount)/self.initial_amount        \n",
    "        print(f'{date} | closing {self.units} at price {price:.3f}')\n",
    "        self.units = 0\n",
    "        self.print_current_balance(bar)\n",
    "        self.print_net_wealth(bar)\n",
    "        print(f'{date} | net performance [%] = {perf:.3f}')\n",
    "        print(f'{date} | trades = {self.trades}')\n",
    "    "
   ]
  },
  {
   "cell_type": "code",
   "execution_count": 135,
   "metadata": {},
   "outputs": [],
   "source": [
    "bb = BacktestBase('EUR=',10000)"
   ]
  },
  {
   "cell_type": "code",
   "execution_count": 136,
   "metadata": {},
   "outputs": [
    {
     "data": {
      "text/plain": [
       "('2010-05-27', 1.2368)"
      ]
     },
     "execution_count": 136,
     "metadata": {},
     "output_type": "execute_result"
    }
   ],
   "source": [
    "bb.get_date_price(100)"
   ]
  },
  {
   "cell_type": "code",
   "execution_count": 137,
   "metadata": {},
   "outputs": [
    {
     "name": "stdout",
     "output_type": "stream",
     "text": [
      "2010-05-27 | net wealth = 10000.00\n"
     ]
    }
   ],
   "source": [
    "bb.print_net_wealth(100\n",
    "                   \n",
    "                   )"
   ]
  },
  {
   "cell_type": "code",
   "execution_count": 138,
   "metadata": {},
   "outputs": [
    {
     "name": "stdout",
     "output_type": "stream",
     "text": [
      "2010-10-19 | current balance = 10000.00\n"
     ]
    }
   ],
   "source": [
    "bb.print_current_balance(200)"
   ]
  },
  {
   "cell_type": "code",
   "execution_count": 139,
   "metadata": {},
   "outputs": [
    {
     "name": "stdout",
     "output_type": "stream",
     "text": [
      "2010-10-19 | bought 1820 at price 1.3732\n"
     ]
    }
   ],
   "source": [
    "bb.place_buy_order(200,amount = 2500)"
   ]
  },
  {
   "cell_type": "code",
   "execution_count": 140,
   "metadata": {},
   "outputs": [
    {
     "name": "stdout",
     "output_type": "stream",
     "text": [
      "2010-11-02 | net wealth = 10055.51\n"
     ]
    }
   ],
   "source": [
    "bb.print_net_wealth(210)"
   ]
  },
  {
   "cell_type": "code",
   "execution_count": 141,
   "metadata": {},
   "outputs": [
    {
     "name": "stdout",
     "output_type": "stream",
     "text": [
      "2011-12-27 | sold 820 at price 1.3068\n"
     ]
    }
   ],
   "source": [
    "bb.place_sell_order(500,units = 820)"
   ]
  },
  {
   "cell_type": "code",
   "execution_count": 142,
   "metadata": {},
   "outputs": [
    {
     "name": "stdout",
     "output_type": "stream",
     "text": [
      "2011-12-27 | current balance = 8572.35\n"
     ]
    }
   ],
   "source": [
    "bb.print_current_balance(500)"
   ]
  },
  {
   "cell_type": "code",
   "execution_count": 143,
   "metadata": {},
   "outputs": [
    {
     "name": "stdout",
     "output_type": "stream",
     "text": [
      "2011-12-27 | net wealth = 9879.15\n"
     ]
    }
   ],
   "source": [
    "bb.print_net_wealth(500)"
   ]
  },
  {
   "cell_type": "code",
   "execution_count": 144,
   "metadata": {},
   "outputs": [
    {
     "name": "stdout",
     "output_type": "stream",
     "text": [
      "2014-10-09 | closing 1000 at price 1.269\n",
      "2014-10-09 | current balance = 9841.35\n",
      "2014-10-09 | net wealth = 9841.35\n",
      "2014-10-09 | net performance [%] = -0.016\n",
      "2014-10-09 | trades = 2\n"
     ]
    }
   ],
   "source": [
    "bb.close_out(1200)"
   ]
  },
  {
   "cell_type": "markdown",
   "metadata": {},
   "source": [
    "### Event Based Backtest"
   ]
  },
  {
   "cell_type": "code",
   "execution_count": 183,
   "metadata": {},
   "outputs": [],
   "source": [
    "class SMABacktester(BacktestBase):\n",
    "    def prepare_statistics(self,SMA1,SMA2):\n",
    "        self.data['SMA1'] = self.data[self.symbol].rolling(SMA1).mean()\n",
    "        self.data['SMA2'] = self.data[self.symbol].rolling(SMA2).mean()\n",
    "    def backtest_strategy(self,SMA1,SMA2):\n",
    "        print(f'Backtesting SMA1={SMA1} | SMA2 = {SMA2}')\n",
    "        print(55 * '=')\n",
    "        self.prepare_statistics(SMA1,SMA2)\n",
    "        self.units = 0\n",
    "        self.trades = 0\n",
    "        self.position = 0\n",
    "        self.current_balance = self.initial_amount\n",
    "        self.data['signal'] = np.where(self.data['SMA1']>self.data['SMA2'],1,-1)\n",
    "        \n",
    "        for bar in range(SMA2, len(self.data)):\n",
    "            signal = self.data['signal'].iloc[bar]\n",
    "            if self.position  in [0,-1] and signal==1:\n",
    "                print(signal)\n",
    "                self.place_buy_order(bar,units = (1-self.position)*1000)\n",
    "                self.print_current_balance(bar)\n",
    "                self.print_net_wealth(bar)\n",
    "                self.position = 1\n",
    "            elif self.position  in [0,1] and signal==-1:\n",
    "                print(signal)\n",
    "                self.place_sell_order(bar,units = (1+self.position)*1000)\n",
    "                self.print_current_balance(bar)\n",
    "                self.print_net_wealth(bar)\n",
    "                self.position = -1\n",
    "        self.close_out(bar)\n",
    "        \n",
    "        \n",
    "        "
   ]
  },
  {
   "cell_type": "code",
   "execution_count": 184,
   "metadata": {},
   "outputs": [],
   "source": [
    "sma = SMABacktester('EUR=',10000)"
   ]
  },
  {
   "cell_type": "code",
   "execution_count": 185,
   "metadata": {},
   "outputs": [
    {
     "name": "stdout",
     "output_type": "stream",
     "text": [
      "Backtesting SMA1=30 | SMA2 = 60\n",
      "=======================================================\n",
      "-1\n",
      "2010-03-31 | sold 1000 at price 1.351\n",
      "2010-03-31 | current balance = 11351.00\n",
      "2010-03-31 | net wealth = 10000.00\n",
      "1\n",
      "2010-07-22 | bought 2000 at price 1.2888\n",
      "2010-07-22 | current balance = 8773.40\n",
      "2010-07-22 | net wealth = 10062.20\n",
      "-1\n",
      "2010-09-22 | sold 2000 at price 1.3399\n",
      "2010-09-22 | current balance = 11453.20\n",
      "2010-09-22 | net wealth = 10113.30\n",
      "1\n",
      "2010-09-28 | bought 2000 at price 1.3579\n",
      "2010-09-28 | current balance = 8737.40\n",
      "2010-09-28 | net wealth = 10095.30\n",
      "-1\n",
      "2010-12-07 | sold 2000 at price 1.3263\n",
      "2010-12-07 | current balance = 11390.00\n",
      "2010-12-07 | net wealth = 10063.70\n",
      "1\n",
      "2011-02-04 | bought 2000 at price 1.3585\n",
      "2011-02-04 | current balance = 8673.00\n",
      "2011-02-04 | net wealth = 10031.50\n",
      "-1\n",
      "2011-06-14 | sold 2000 at price 1.4438\n",
      "2011-06-14 | current balance = 11560.60\n",
      "2011-06-14 | net wealth = 10116.80\n",
      "1\n",
      "2011-08-29 | bought 2000 at price 1.4508\n",
      "2011-08-29 | current balance = 8659.00\n",
      "2011-08-29 | net wealth = 10109.80\n",
      "-1\n",
      "2011-09-09 | sold 2000 at price 1.3651\n",
      "2011-09-09 | current balance = 11389.20\n",
      "2011-09-09 | net wealth = 10024.10\n",
      "1\n",
      "2011-11-21 | bought 2000 at price 1.3494\n",
      "2011-11-21 | current balance = 8690.40\n",
      "2011-11-21 | net wealth = 10039.80\n",
      "-1\n",
      "2011-12-06 | sold 2000 at price 1.3401\n",
      "2011-12-06 | current balance = 11370.60\n",
      "2011-12-06 | net wealth = 10030.50\n",
      "1\n",
      "2012-02-24 | bought 2000 at price 1.3454\n",
      "2012-02-24 | current balance = 8679.80\n",
      "2012-02-24 | net wealth = 10025.20\n",
      "-1\n",
      "2012-04-16 | sold 2000 at price 1.3138\n",
      "2012-04-16 | current balance = 11307.40\n",
      "2012-04-16 | net wealth = 9993.60\n",
      "1\n",
      "2012-09-06 | bought 2000 at price 1.2628\n",
      "2012-09-06 | current balance = 8781.80\n",
      "2012-09-06 | net wealth = 10044.60\n",
      "-1\n",
      "2012-11-28 | sold 2000 at price 1.2951\n",
      "2012-11-28 | current balance = 11372.00\n",
      "2012-11-28 | net wealth = 10076.90\n",
      "1\n",
      "2012-12-20 | bought 2000 at price 1.3242\n",
      "2012-12-20 | current balance = 8723.60\n",
      "2012-12-20 | net wealth = 10047.80\n",
      "-1\n",
      "2013-03-14 | sold 2000 at price 1.3004\n",
      "2013-03-14 | current balance = 11324.40\n",
      "2013-03-14 | net wealth = 10024.00\n",
      "1\n",
      "2013-05-13 | bought 2000 at price 1.2975\n",
      "2013-05-13 | current balance = 8729.40\n",
      "2013-05-13 | net wealth = 10026.90\n",
      "-1\n",
      "2013-12-06 | sold 2000 at price 1.3703\n",
      "2013-12-06 | current balance = 11470.00\n",
      "2013-12-06 | net wealth = 10099.70\n",
      "1\n",
      "2013-12-23 | bought 2000 at price 1.3695\n",
      "2013-12-23 | current balance = 8731.00\n",
      "2013-12-23 | net wealth = 10100.50\n",
      "-1\n",
      "2014-02-11 | sold 2000 at price 1.3636\n",
      "2014-02-11 | current balance = 11458.20\n",
      "2014-02-11 | net wealth = 10094.60\n",
      "1\n",
      "2014-03-07 | bought 2000 at price 1.3876\n",
      "2014-03-07 | current balance = 8683.00\n",
      "2014-03-07 | net wealth = 10070.60\n",
      "-1\n",
      "2014-05-22 | sold 2000 at price 1.3654\n",
      "2014-05-22 | current balance = 11413.80\n",
      "2014-05-22 | net wealth = 10048.40\n",
      "1\n",
      "2015-05-14 | bought 2000 at price 1.1408\n",
      "2015-05-14 | current balance = 9132.20\n",
      "2015-05-14 | net wealth = 10273.00\n",
      "-1\n",
      "2015-07-21 | sold 2000 at price 1.0936\n",
      "2015-07-21 | current balance = 11319.40\n",
      "2015-07-21 | net wealth = 10225.80\n",
      "1\n",
      "2015-09-03 | bought 2000 at price 1.1121\n",
      "2015-09-03 | current balance = 9095.20\n",
      "2015-09-03 | net wealth = 10207.30\n",
      "-1\n",
      "2015-10-30 | sold 2000 at price 1.1005\n",
      "2015-10-30 | current balance = 11296.20\n",
      "2015-10-30 | net wealth = 10195.70\n",
      "1\n",
      "2016-01-13 | bought 2000 at price 1.0873\n",
      "2016-01-13 | current balance = 9121.60\n",
      "2016-01-13 | net wealth = 10208.90\n",
      "-1\n",
      "2016-06-10 | sold 2000 at price 1.1249\n",
      "2016-06-10 | current balance = 11371.40\n",
      "2016-06-10 | net wealth = 10246.50\n",
      "1\n",
      "2016-08-31 | bought 2000 at price 1.1156\n",
      "2016-08-31 | current balance = 9140.20\n",
      "2016-08-31 | net wealth = 10255.80\n",
      "-1\n",
      "2016-10-18 | sold 2000 at price 1.0978\n",
      "2016-10-18 | current balance = 11335.80\n",
      "2016-10-18 | net wealth = 10238.00\n",
      "1\n",
      "2017-02-07 | bought 2000 at price 1.068\n",
      "2017-02-07 | current balance = 9199.80\n",
      "2017-02-07 | net wealth = 10267.80\n",
      "-1\n",
      "2017-03-23 | sold 2000 at price 1.078\n",
      "2017-03-23 | current balance = 11355.80\n",
      "2017-03-23 | net wealth = 10277.80\n",
      "1\n",
      "2017-03-29 | bought 2000 at price 1.0766\n",
      "2017-03-29 | current balance = 9202.60\n",
      "2017-03-29 | net wealth = 10279.20\n",
      "-1\n",
      "2017-03-30 | sold 2000 at price 1.0674\n",
      "2017-03-30 | current balance = 11337.40\n",
      "2017-03-30 | net wealth = 10270.00\n",
      "1\n",
      "2017-04-05 | bought 2000 at price 1.0662\n",
      "2017-04-05 | current balance = 9205.00\n",
      "2017-04-05 | net wealth = 10271.20\n",
      "-1\n",
      "2017-10-20 | sold 2000 at price 1.1783\n",
      "2017-10-20 | current balance = 11561.60\n",
      "2017-10-20 | net wealth = 10383.30\n",
      "1\n",
      "2017-12-15 | bought 2000 at price 1.1752\n",
      "2017-12-15 | current balance = 9211.20\n",
      "2017-12-15 | net wealth = 10386.40\n",
      "-1\n",
      "2018-04-06 | sold 2000 at price 1.2281\n",
      "2018-04-06 | current balance = 11667.40\n",
      "2018-04-06 | net wealth = 10439.30\n",
      "1\n",
      "2018-09-27 | bought 2000 at price 1.1639\n",
      "2018-09-27 | current balance = 9339.60\n",
      "2018-09-27 | net wealth = 10503.50\n",
      "-1\n",
      "2018-10-29 | sold 2000 at price 1.1371\n",
      "2018-10-29 | current balance = 11613.80\n",
      "2018-10-29 | net wealth = 10476.70\n",
      "1\n",
      "2019-01-11 | bought 2000 at price 1.1467\n",
      "2019-01-11 | current balance = 9320.40\n",
      "2019-01-11 | net wealth = 10467.10\n",
      "-1\n",
      "2019-02-22 | sold 2000 at price 1.1341\n",
      "2019-02-22 | current balance = 11588.60\n",
      "2019-02-22 | net wealth = 10454.50\n",
      "1\n",
      "2019-06-24 | bought 2000 at price 1.1396\n",
      "2019-06-24 | current balance = 9309.40\n",
      "2019-06-24 | net wealth = 10449.00\n",
      "-1\n",
      "2019-08-06 | sold 2000 at price 1.1198\n",
      "2019-08-06 | current balance = 11549.00\n",
      "2019-08-06 | net wealth = 10429.20\n",
      "1\n",
      "2019-11-07 | bought 2000 at price 1.1049\n",
      "2019-11-07 | current balance = 9339.20\n",
      "2019-11-07 | net wealth = 10444.10\n",
      "=======================================================\n",
      "2019-12-31 | CLOSING OUT POSITION\n",
      "=======================================================\n",
      "2019-12-31 | closing 1000 at price 1.121\n",
      "2019-12-31 | current balance = 10460.20\n",
      "2019-12-31 | net wealth = 10460.20\n",
      "2019-12-31 | net performance [%] = 0.046\n",
      "2019-12-31 | trades = 46\n"
     ]
    }
   ],
   "source": [
    "sma.backtest_strategy(30,60)"
   ]
  }
 ],
 "metadata": {
  "kernelspec": {
   "display_name": "Python 3",
   "language": "python",
   "name": "python3"
  },
  "language_info": {
   "codemirror_mode": {
    "name": "ipython",
    "version": 3
   },
   "file_extension": ".py",
   "mimetype": "text/x-python",
   "name": "python",
   "nbconvert_exporter": "python",
   "pygments_lexer": "ipython3",
   "version": "3.7.6"
  }
 },
 "nbformat": 4,
 "nbformat_minor": 4
}
